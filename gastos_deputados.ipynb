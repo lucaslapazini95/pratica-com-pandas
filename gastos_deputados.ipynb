{
  "nbformat": 4,
  "nbformat_minor": 0,
  "metadata": {
    "colab": {
      "provenance": [],
      "collapsed_sections": [
        "smRLx5LLeQcT"
      ],
      "authorship_tag": "ABX9TyMFkbwKq5Zd4v1tsax7Ic1+",
      "include_colab_link": true
    },
    "kernelspec": {
      "name": "python3",
      "display_name": "Python 3"
    },
    "language_info": {
      "name": "python"
    }
  },
  "cells": [
    {
      "cell_type": "markdown",
      "metadata": {
        "id": "view-in-github",
        "colab_type": "text"
      },
      "source": [
        "<a href=\"https://colab.research.google.com/github/lucaslapazini95/pratica-com-pandas/blob/main/gastos_deputados.ipynb\" target=\"_parent\"><img src=\"https://colab.research.google.com/assets/colab-badge.svg\" alt=\"Open In Colab\"/></a>"
      ]
    },
    {
      "cell_type": "markdown",
      "source": [
        "#Libs Install"
      ],
      "metadata": {
        "id": "z5OcUwPeSddM"
      }
    },
    {
      "cell_type": "code",
      "source": [
        "pip install gcsfs"
      ],
      "metadata": {
        "id": "5ncoAF3ZSaRH"
      },
      "execution_count": null,
      "outputs": []
    },
    {
      "cell_type": "code",
      "source": [
        "pip install pandera"
      ],
      "metadata": {
        "id": "_XpIFl_sTGxz"
      },
      "execution_count": null,
      "outputs": []
    },
    {
      "cell_type": "markdown",
      "source": [
        "#Libs Dec"
      ],
      "metadata": {
        "id": "NT7EWKtnTMNb"
      }
    },
    {
      "cell_type": "code",
      "source": [
        "import pandas as pd\n",
        "import os\n",
        "import pandera as pa"
      ],
      "metadata": {
        "id": "nFyLhN_tTS3-"
      },
      "execution_count": null,
      "outputs": []
    },
    {
      "cell_type": "markdown",
      "source": [
        "#Start - pre-analysis"
      ],
      "metadata": {
        "id": "1_LmEMmWTuug"
      }
    },
    {
      "cell_type": "code",
      "source": [
        "df = pd.read_csv(\"https://storage.googleapis.com/igorgondimfreebuck/depsp.csv\", sep=',')"
      ],
      "metadata": {
        "colab": {
          "base_uri": "https://localhost:8080/"
        },
        "id": "lS9tOz9TTwX0",
        "outputId": "07a3e7ac-74d2-4024-cf4d-ee4b3b40ba6d"
      },
      "execution_count": null,
      "outputs": [
        {
          "output_type": "stream",
          "name": "stderr",
          "text": [
            "/usr/local/lib/python3.8/dist-packages/IPython/core/interactiveshell.py:3326: DtypeWarning: Columns (4) have mixed types.Specify dtype option on import or set low_memory=False.\n",
            "  exec(code_obj, self.user_global_ns, self.user_ns)\n"
          ]
        }
      ]
    },
    {
      "cell_type": "code",
      "source": [
        "df"
      ],
      "metadata": {
        "colab": {
          "base_uri": "https://localhost:8080/",
          "height": 624
        },
        "id": "NHenFpYpTyNN",
        "outputId": "64a54c5b-f387-4af3-8782-d16e566adeb9"
      },
      "execution_count": null,
      "outputs": [
        {
          "output_type": "execute_result",
          "data": {
            "text/plain": [
              "         Ano  Matricula  Mes    Valor              CNPJ            Deputado  \\\n",
              "0       2015     300257    3   200.00    71806251000106  ABELARDO CAMARINHA   \n",
              "1       2015     300257    3   295.40    68064740000125  ABELARDO CAMARINHA   \n",
              "2       2015     300257    3  2850.00       22145388877  ABELARDO CAMARINHA   \n",
              "3       2015     300257    4   100.00    10915883000113  ABELARDO CAMARINHA   \n",
              "4       2015     300257    4   195.01    71806251000106  ABELARDO CAMARINHA   \n",
              "...      ...        ...  ...      ...               ...                 ...   \n",
              "542390  2007     300441    3   120.00   6306675000140.0       ÍTALO CARDOSO   \n",
              "542391  2007     300441    3  2096.80  52204617000122.0       ÍTALO CARDOSO   \n",
              "542392  2007     300441    3    13.48  62925474000282.0       ÍTALO CARDOSO   \n",
              "542393  2007     300441    3    38.08  66747577000170.0       ÍTALO CARDOSO   \n",
              "542394  2007     300441    3  2994.00   7047000000196.0       ÍTALO CARDOSO   \n",
              "\n",
              "                                                     Tipo  \\\n",
              "0                        A - COMBUSTÍVEIS E LUBRIFICANTES   \n",
              "1       E - MATERIAIS DE ESCRITÓRIO E OUTROS MATERIAIS...   \n",
              "2                                             N - MORADIA   \n",
              "3                        A - COMBUSTÍVEIS E LUBRIFICANTES   \n",
              "4                        A - COMBUSTÍVEIS E LUBRIFICANTES   \n",
              "...                                                   ...   \n",
              "542390  I - HOSPEDAGEM, ALIMENTAÇÃO E DESPESAS DE LOCO...   \n",
              "542391  I - HOSPEDAGEM, ALIMENTAÇÃO E DESPESAS DE LOCO...   \n",
              "542392  I - HOSPEDAGEM, ALIMENTAÇÃO E DESPESAS DE LOCO...   \n",
              "542393  I - HOSPEDAGEM, ALIMENTAÇÃO E DESPESAS DE LOCO...   \n",
              "542394                        J - SERVIÇOS DE COMUNICAÇÃO   \n",
              "\n",
              "                                       Fornecedor  \n",
              "0                AUTO POSTO DE SERVIÇOS MARV LTDA  \n",
              "1                       PAPER FACE COMERCIAL LTDA  \n",
              "2                       LARA SERVINO VARGAS ABREU  \n",
              "3                   CENTRO AUTOMOTIVO TOP 23 LTDA  \n",
              "4                AUTO POSTO DE SERVIÇOS MARV LTDA  \n",
              "...                                           ...  \n",
              "542390                        OPTEI EXPRESS LTDA.  \n",
              "542391                   CHURRASCARIA JANDA LTDA.  \n",
              "542392  ASSOCIAÇÃO FUNC.ASSEMB.LEG. EST.SÃO PAULO  \n",
              "542393              IBIZA EUROPEIA ALIMENTOS LTDA  \n",
              "542394         ECT-EMP.BRAS.CORREIOS E TELEGRAFOS  \n",
              "\n",
              "[542395 rows x 8 columns]"
            ],
            "text/html": [
              "\n",
              "  <div id=\"df-68ea9648-790a-46c4-a7fe-3684f2893d70\">\n",
              "    <div class=\"colab-df-container\">\n",
              "      <div>\n",
              "<style scoped>\n",
              "    .dataframe tbody tr th:only-of-type {\n",
              "        vertical-align: middle;\n",
              "    }\n",
              "\n",
              "    .dataframe tbody tr th {\n",
              "        vertical-align: top;\n",
              "    }\n",
              "\n",
              "    .dataframe thead th {\n",
              "        text-align: right;\n",
              "    }\n",
              "</style>\n",
              "<table border=\"1\" class=\"dataframe\">\n",
              "  <thead>\n",
              "    <tr style=\"text-align: right;\">\n",
              "      <th></th>\n",
              "      <th>Ano</th>\n",
              "      <th>Matricula</th>\n",
              "      <th>Mes</th>\n",
              "      <th>Valor</th>\n",
              "      <th>CNPJ</th>\n",
              "      <th>Deputado</th>\n",
              "      <th>Tipo</th>\n",
              "      <th>Fornecedor</th>\n",
              "    </tr>\n",
              "  </thead>\n",
              "  <tbody>\n",
              "    <tr>\n",
              "      <th>0</th>\n",
              "      <td>2015</td>\n",
              "      <td>300257</td>\n",
              "      <td>3</td>\n",
              "      <td>200.00</td>\n",
              "      <td>71806251000106</td>\n",
              "      <td>ABELARDO CAMARINHA</td>\n",
              "      <td>A - COMBUSTÍVEIS E LUBRIFICANTES</td>\n",
              "      <td>AUTO POSTO DE SERVIÇOS MARV LTDA</td>\n",
              "    </tr>\n",
              "    <tr>\n",
              "      <th>1</th>\n",
              "      <td>2015</td>\n",
              "      <td>300257</td>\n",
              "      <td>3</td>\n",
              "      <td>295.40</td>\n",
              "      <td>68064740000125</td>\n",
              "      <td>ABELARDO CAMARINHA</td>\n",
              "      <td>E - MATERIAIS DE ESCRITÓRIO E OUTROS MATERIAIS...</td>\n",
              "      <td>PAPER FACE COMERCIAL LTDA</td>\n",
              "    </tr>\n",
              "    <tr>\n",
              "      <th>2</th>\n",
              "      <td>2015</td>\n",
              "      <td>300257</td>\n",
              "      <td>3</td>\n",
              "      <td>2850.00</td>\n",
              "      <td>22145388877</td>\n",
              "      <td>ABELARDO CAMARINHA</td>\n",
              "      <td>N - MORADIA</td>\n",
              "      <td>LARA SERVINO VARGAS ABREU</td>\n",
              "    </tr>\n",
              "    <tr>\n",
              "      <th>3</th>\n",
              "      <td>2015</td>\n",
              "      <td>300257</td>\n",
              "      <td>4</td>\n",
              "      <td>100.00</td>\n",
              "      <td>10915883000113</td>\n",
              "      <td>ABELARDO CAMARINHA</td>\n",
              "      <td>A - COMBUSTÍVEIS E LUBRIFICANTES</td>\n",
              "      <td>CENTRO AUTOMOTIVO TOP 23 LTDA</td>\n",
              "    </tr>\n",
              "    <tr>\n",
              "      <th>4</th>\n",
              "      <td>2015</td>\n",
              "      <td>300257</td>\n",
              "      <td>4</td>\n",
              "      <td>195.01</td>\n",
              "      <td>71806251000106</td>\n",
              "      <td>ABELARDO CAMARINHA</td>\n",
              "      <td>A - COMBUSTÍVEIS E LUBRIFICANTES</td>\n",
              "      <td>AUTO POSTO DE SERVIÇOS MARV LTDA</td>\n",
              "    </tr>\n",
              "    <tr>\n",
              "      <th>...</th>\n",
              "      <td>...</td>\n",
              "      <td>...</td>\n",
              "      <td>...</td>\n",
              "      <td>...</td>\n",
              "      <td>...</td>\n",
              "      <td>...</td>\n",
              "      <td>...</td>\n",
              "      <td>...</td>\n",
              "    </tr>\n",
              "    <tr>\n",
              "      <th>542390</th>\n",
              "      <td>2007</td>\n",
              "      <td>300441</td>\n",
              "      <td>3</td>\n",
              "      <td>120.00</td>\n",
              "      <td>6306675000140.0</td>\n",
              "      <td>ÍTALO CARDOSO</td>\n",
              "      <td>I - HOSPEDAGEM, ALIMENTAÇÃO E DESPESAS DE LOCO...</td>\n",
              "      <td>OPTEI EXPRESS LTDA.</td>\n",
              "    </tr>\n",
              "    <tr>\n",
              "      <th>542391</th>\n",
              "      <td>2007</td>\n",
              "      <td>300441</td>\n",
              "      <td>3</td>\n",
              "      <td>2096.80</td>\n",
              "      <td>52204617000122.0</td>\n",
              "      <td>ÍTALO CARDOSO</td>\n",
              "      <td>I - HOSPEDAGEM, ALIMENTAÇÃO E DESPESAS DE LOCO...</td>\n",
              "      <td>CHURRASCARIA JANDA LTDA.</td>\n",
              "    </tr>\n",
              "    <tr>\n",
              "      <th>542392</th>\n",
              "      <td>2007</td>\n",
              "      <td>300441</td>\n",
              "      <td>3</td>\n",
              "      <td>13.48</td>\n",
              "      <td>62925474000282.0</td>\n",
              "      <td>ÍTALO CARDOSO</td>\n",
              "      <td>I - HOSPEDAGEM, ALIMENTAÇÃO E DESPESAS DE LOCO...</td>\n",
              "      <td>ASSOCIAÇÃO FUNC.ASSEMB.LEG. EST.SÃO PAULO</td>\n",
              "    </tr>\n",
              "    <tr>\n",
              "      <th>542393</th>\n",
              "      <td>2007</td>\n",
              "      <td>300441</td>\n",
              "      <td>3</td>\n",
              "      <td>38.08</td>\n",
              "      <td>66747577000170.0</td>\n",
              "      <td>ÍTALO CARDOSO</td>\n",
              "      <td>I - HOSPEDAGEM, ALIMENTAÇÃO E DESPESAS DE LOCO...</td>\n",
              "      <td>IBIZA EUROPEIA ALIMENTOS LTDA</td>\n",
              "    </tr>\n",
              "    <tr>\n",
              "      <th>542394</th>\n",
              "      <td>2007</td>\n",
              "      <td>300441</td>\n",
              "      <td>3</td>\n",
              "      <td>2994.00</td>\n",
              "      <td>7047000000196.0</td>\n",
              "      <td>ÍTALO CARDOSO</td>\n",
              "      <td>J - SERVIÇOS DE COMUNICAÇÃO</td>\n",
              "      <td>ECT-EMP.BRAS.CORREIOS E TELEGRAFOS</td>\n",
              "    </tr>\n",
              "  </tbody>\n",
              "</table>\n",
              "<p>542395 rows × 8 columns</p>\n",
              "</div>\n",
              "      <button class=\"colab-df-convert\" onclick=\"convertToInteractive('df-68ea9648-790a-46c4-a7fe-3684f2893d70')\"\n",
              "              title=\"Convert this dataframe to an interactive table.\"\n",
              "              style=\"display:none;\">\n",
              "        \n",
              "  <svg xmlns=\"http://www.w3.org/2000/svg\" height=\"24px\"viewBox=\"0 0 24 24\"\n",
              "       width=\"24px\">\n",
              "    <path d=\"M0 0h24v24H0V0z\" fill=\"none\"/>\n",
              "    <path d=\"M18.56 5.44l.94 2.06.94-2.06 2.06-.94-2.06-.94-.94-2.06-.94 2.06-2.06.94zm-11 1L8.5 8.5l.94-2.06 2.06-.94-2.06-.94L8.5 2.5l-.94 2.06-2.06.94zm10 10l.94 2.06.94-2.06 2.06-.94-2.06-.94-.94-2.06-.94 2.06-2.06.94z\"/><path d=\"M17.41 7.96l-1.37-1.37c-.4-.4-.92-.59-1.43-.59-.52 0-1.04.2-1.43.59L10.3 9.45l-7.72 7.72c-.78.78-.78 2.05 0 2.83L4 21.41c.39.39.9.59 1.41.59.51 0 1.02-.2 1.41-.59l7.78-7.78 2.81-2.81c.8-.78.8-2.07 0-2.86zM5.41 20L4 18.59l7.72-7.72 1.47 1.35L5.41 20z\"/>\n",
              "  </svg>\n",
              "      </button>\n",
              "      \n",
              "  <style>\n",
              "    .colab-df-container {\n",
              "      display:flex;\n",
              "      flex-wrap:wrap;\n",
              "      gap: 12px;\n",
              "    }\n",
              "\n",
              "    .colab-df-convert {\n",
              "      background-color: #E8F0FE;\n",
              "      border: none;\n",
              "      border-radius: 50%;\n",
              "      cursor: pointer;\n",
              "      display: none;\n",
              "      fill: #1967D2;\n",
              "      height: 32px;\n",
              "      padding: 0 0 0 0;\n",
              "      width: 32px;\n",
              "    }\n",
              "\n",
              "    .colab-df-convert:hover {\n",
              "      background-color: #E2EBFA;\n",
              "      box-shadow: 0px 1px 2px rgba(60, 64, 67, 0.3), 0px 1px 3px 1px rgba(60, 64, 67, 0.15);\n",
              "      fill: #174EA6;\n",
              "    }\n",
              "\n",
              "    [theme=dark] .colab-df-convert {\n",
              "      background-color: #3B4455;\n",
              "      fill: #D2E3FC;\n",
              "    }\n",
              "\n",
              "    [theme=dark] .colab-df-convert:hover {\n",
              "      background-color: #434B5C;\n",
              "      box-shadow: 0px 1px 3px 1px rgba(0, 0, 0, 0.15);\n",
              "      filter: drop-shadow(0px 1px 2px rgba(0, 0, 0, 0.3));\n",
              "      fill: #FFFFFF;\n",
              "    }\n",
              "  </style>\n",
              "\n",
              "      <script>\n",
              "        const buttonEl =\n",
              "          document.querySelector('#df-68ea9648-790a-46c4-a7fe-3684f2893d70 button.colab-df-convert');\n",
              "        buttonEl.style.display =\n",
              "          google.colab.kernel.accessAllowed ? 'block' : 'none';\n",
              "\n",
              "        async function convertToInteractive(key) {\n",
              "          const element = document.querySelector('#df-68ea9648-790a-46c4-a7fe-3684f2893d70');\n",
              "          const dataTable =\n",
              "            await google.colab.kernel.invokeFunction('convertToInteractive',\n",
              "                                                     [key], {});\n",
              "          if (!dataTable) return;\n",
              "\n",
              "          const docLinkHtml = 'Like what you see? Visit the ' +\n",
              "            '<a target=\"_blank\" href=https://colab.research.google.com/notebooks/data_table.ipynb>data table notebook</a>'\n",
              "            + ' to learn more about interactive tables.';\n",
              "          element.innerHTML = '';\n",
              "          dataTable['output_type'] = 'display_data';\n",
              "          await google.colab.output.renderOutput(dataTable, element);\n",
              "          const docLink = document.createElement('div');\n",
              "          docLink.innerHTML = docLinkHtml;\n",
              "          element.appendChild(docLink);\n",
              "        }\n",
              "      </script>\n",
              "    </div>\n",
              "  </div>\n",
              "  "
            ]
          },
          "metadata": {},
          "execution_count": 4
        }
      ]
    },
    {
      "cell_type": "code",
      "source": [
        "df.dtypes"
      ],
      "metadata": {
        "colab": {
          "base_uri": "https://localhost:8080/"
        },
        "id": "7i6okCKkU5vL",
        "outputId": "4b835a85-d7e7-4287-8f46-34bf9df026ab"
      },
      "execution_count": null,
      "outputs": [
        {
          "output_type": "execute_result",
          "data": {
            "text/plain": [
              "Ano             int64\n",
              "Matricula       int64\n",
              "Mes             int64\n",
              "Valor         float64\n",
              "CNPJ           object\n",
              "Deputado       object\n",
              "Tipo           object\n",
              "Fornecedor     object\n",
              "dtype: object"
            ]
          },
          "metadata": {},
          "execution_count": 5
        }
      ]
    },
    {
      "cell_type": "code",
      "source": [
        "df.count()"
      ],
      "metadata": {
        "colab": {
          "base_uri": "https://localhost:8080/"
        },
        "id": "EolI-RiSU_VC",
        "outputId": "2919638b-ec5a-410e-8a68-8528d1daa294"
      },
      "execution_count": null,
      "outputs": [
        {
          "output_type": "execute_result",
          "data": {
            "text/plain": [
              "Ano           542395\n",
              "Matricula     542395\n",
              "Mes           542395\n",
              "Valor         542395\n",
              "CNPJ          531428\n",
              "Deputado      542395\n",
              "Tipo          542395\n",
              "Fornecedor    542395\n",
              "dtype: int64"
            ]
          },
          "metadata": {},
          "execution_count": 6
        }
      ]
    },
    {
      "cell_type": "code",
      "source": [
        "df.groupby(['Ano']).size().sort_values"
      ],
      "metadata": {
        "colab": {
          "base_uri": "https://localhost:8080/"
        },
        "id": "BZ86QeKyU4lC",
        "outputId": "6399237e-cc93-455a-a20e-ebabc6823f99"
      },
      "execution_count": null,
      "outputs": [
        {
          "output_type": "execute_result",
          "data": {
            "text/plain": [
              "<bound method Series.sort_values of Ano\n",
              "2002    29586\n",
              "2003    31173\n",
              "2004    29338\n",
              "2005    31894\n",
              "2006    30928\n",
              "2007    33202\n",
              "2008    30155\n",
              "2009    30421\n",
              "2010    24266\n",
              "2011    25152\n",
              "2012    24964\n",
              "2013    27928\n",
              "2014    23333\n",
              "2015    23171\n",
              "2016    24141\n",
              "2017    24820\n",
              "2018    23104\n",
              "2019    18849\n",
              "2020    14039\n",
              "2021    18981\n",
              "2022    21564\n",
              "2023     1386\n",
              "dtype: int64>"
            ]
          },
          "metadata": {},
          "execution_count": 25
        }
      ]
    },
    {
      "cell_type": "code",
      "source": [
        "df.isna().sum()"
      ],
      "metadata": {
        "colab": {
          "base_uri": "https://localhost:8080/"
        },
        "id": "3jKJmyKPVI46",
        "outputId": "fd1869b4-95f0-4641-b820-7bf2bb2f23e2"
      },
      "execution_count": null,
      "outputs": [
        {
          "output_type": "execute_result",
          "data": {
            "text/plain": [
              "Ano               0\n",
              "Matricula         0\n",
              "Mes               0\n",
              "Valor             0\n",
              "CNPJ          10967\n",
              "Deputado          0\n",
              "Tipo              0\n",
              "Fornecedor        0\n",
              "dtype: int64"
            ]
          },
          "metadata": {},
          "execution_count": 8
        }
      ]
    },
    {
      "cell_type": "code",
      "source": [
        "#filtro nulos\n",
        "ftcnpj = df.CNPJ.isna()"
      ],
      "metadata": {
        "id": "aIqIVVAjXTkO"
      },
      "execution_count": null,
      "outputs": []
    },
    {
      "cell_type": "code",
      "source": [
        "df.loc[ftcnpj]"
      ],
      "metadata": {
        "colab": {
          "base_uri": "https://localhost:8080/",
          "height": 424
        },
        "id": "2wweUTu1Xi7r",
        "outputId": "7951742a-7422-4132-8e73-173ef8cfda56"
      },
      "execution_count": null,
      "outputs": [
        {
          "output_type": "execute_result",
          "data": {
            "text/plain": [
              "         Ano  Matricula  Mes  Valor CNPJ         Deputado  \\\n",
              "855     2003     300439    3  192.6  NaN  ADILSON BARROSO   \n",
              "882     2003     300439    4  104.8  NaN  ADILSON BARROSO   \n",
              "920     2003     300439    5  154.8  NaN  ADILSON BARROSO   \n",
              "945     2003     300439    5   40.0  NaN  ADILSON BARROSO   \n",
              "960     2003     300439    6   12.2  NaN  ADILSON BARROSO   \n",
              "...      ...        ...  ...    ...  ...              ...   \n",
              "542223  2006     300441   10   80.6  NaN    ÍTALO CARDOSO   \n",
              "542262  2006     300441   11   19.7  NaN    ÍTALO CARDOSO   \n",
              "542299  2006     300441   12   63.2  NaN    ÍTALO CARDOSO   \n",
              "542326  2007     300441    1   14.6  NaN    ÍTALO CARDOSO   \n",
              "542380  2007     300441    3   12.7  NaN    ÍTALO CARDOSO   \n",
              "\n",
              "                                                     Tipo Fornecedor  \n",
              "855     C - MATERIAIS E SERVIÇOS DE MANUT E CONSERV DE...    PEDÁGIO  \n",
              "882     C - MATERIAIS E SERVIÇOS DE MANUT E CONSERV DE...    PEDÁGIO  \n",
              "920     C - MATERIAIS E SERVIÇOS DE MANUT E CONSERV DE...    PEDÁGIO  \n",
              "945                            K - LOCAÇÃO DE BENS MÓVEIS       TAXI  \n",
              "960     C - MATERIAIS E SERVIÇOS DE MANUT E CONSERV DE...    PEDÁGIO  \n",
              "...                                                   ...        ...  \n",
              "542223  C - MATERIAIS E SERVIÇOS DE MANUT E CONSERV DE...    PEDÁGIO  \n",
              "542262  C - MATERIAIS E SERVIÇOS DE MANUT E CONSERV DE...    PEDÁGIO  \n",
              "542299  C - MATERIAIS E SERVIÇOS DE MANUT E CONSERV DE...    PEDÁGIO  \n",
              "542326  C - MATERIAIS E SERVIÇOS DE MANUT E CONSERV DE...    PEDÁGIO  \n",
              "542380  C - MATERIAIS E SERVIÇOS DE MANUT E CONSERV DE...    PEDÁGIO  \n",
              "\n",
              "[10967 rows x 8 columns]"
            ],
            "text/html": [
              "\n",
              "  <div id=\"df-a69596c0-5bd9-4a59-b305-3d0edf2d69bf\">\n",
              "    <div class=\"colab-df-container\">\n",
              "      <div>\n",
              "<style scoped>\n",
              "    .dataframe tbody tr th:only-of-type {\n",
              "        vertical-align: middle;\n",
              "    }\n",
              "\n",
              "    .dataframe tbody tr th {\n",
              "        vertical-align: top;\n",
              "    }\n",
              "\n",
              "    .dataframe thead th {\n",
              "        text-align: right;\n",
              "    }\n",
              "</style>\n",
              "<table border=\"1\" class=\"dataframe\">\n",
              "  <thead>\n",
              "    <tr style=\"text-align: right;\">\n",
              "      <th></th>\n",
              "      <th>Ano</th>\n",
              "      <th>Matricula</th>\n",
              "      <th>Mes</th>\n",
              "      <th>Valor</th>\n",
              "      <th>CNPJ</th>\n",
              "      <th>Deputado</th>\n",
              "      <th>Tipo</th>\n",
              "      <th>Fornecedor</th>\n",
              "    </tr>\n",
              "  </thead>\n",
              "  <tbody>\n",
              "    <tr>\n",
              "      <th>855</th>\n",
              "      <td>2003</td>\n",
              "      <td>300439</td>\n",
              "      <td>3</td>\n",
              "      <td>192.6</td>\n",
              "      <td>NaN</td>\n",
              "      <td>ADILSON BARROSO</td>\n",
              "      <td>C - MATERIAIS E SERVIÇOS DE MANUT E CONSERV DE...</td>\n",
              "      <td>PEDÁGIO</td>\n",
              "    </tr>\n",
              "    <tr>\n",
              "      <th>882</th>\n",
              "      <td>2003</td>\n",
              "      <td>300439</td>\n",
              "      <td>4</td>\n",
              "      <td>104.8</td>\n",
              "      <td>NaN</td>\n",
              "      <td>ADILSON BARROSO</td>\n",
              "      <td>C - MATERIAIS E SERVIÇOS DE MANUT E CONSERV DE...</td>\n",
              "      <td>PEDÁGIO</td>\n",
              "    </tr>\n",
              "    <tr>\n",
              "      <th>920</th>\n",
              "      <td>2003</td>\n",
              "      <td>300439</td>\n",
              "      <td>5</td>\n",
              "      <td>154.8</td>\n",
              "      <td>NaN</td>\n",
              "      <td>ADILSON BARROSO</td>\n",
              "      <td>C - MATERIAIS E SERVIÇOS DE MANUT E CONSERV DE...</td>\n",
              "      <td>PEDÁGIO</td>\n",
              "    </tr>\n",
              "    <tr>\n",
              "      <th>945</th>\n",
              "      <td>2003</td>\n",
              "      <td>300439</td>\n",
              "      <td>5</td>\n",
              "      <td>40.0</td>\n",
              "      <td>NaN</td>\n",
              "      <td>ADILSON BARROSO</td>\n",
              "      <td>K - LOCAÇÃO DE BENS MÓVEIS</td>\n",
              "      <td>TAXI</td>\n",
              "    </tr>\n",
              "    <tr>\n",
              "      <th>960</th>\n",
              "      <td>2003</td>\n",
              "      <td>300439</td>\n",
              "      <td>6</td>\n",
              "      <td>12.2</td>\n",
              "      <td>NaN</td>\n",
              "      <td>ADILSON BARROSO</td>\n",
              "      <td>C - MATERIAIS E SERVIÇOS DE MANUT E CONSERV DE...</td>\n",
              "      <td>PEDÁGIO</td>\n",
              "    </tr>\n",
              "    <tr>\n",
              "      <th>...</th>\n",
              "      <td>...</td>\n",
              "      <td>...</td>\n",
              "      <td>...</td>\n",
              "      <td>...</td>\n",
              "      <td>...</td>\n",
              "      <td>...</td>\n",
              "      <td>...</td>\n",
              "      <td>...</td>\n",
              "    </tr>\n",
              "    <tr>\n",
              "      <th>542223</th>\n",
              "      <td>2006</td>\n",
              "      <td>300441</td>\n",
              "      <td>10</td>\n",
              "      <td>80.6</td>\n",
              "      <td>NaN</td>\n",
              "      <td>ÍTALO CARDOSO</td>\n",
              "      <td>C - MATERIAIS E SERVIÇOS DE MANUT E CONSERV DE...</td>\n",
              "      <td>PEDÁGIO</td>\n",
              "    </tr>\n",
              "    <tr>\n",
              "      <th>542262</th>\n",
              "      <td>2006</td>\n",
              "      <td>300441</td>\n",
              "      <td>11</td>\n",
              "      <td>19.7</td>\n",
              "      <td>NaN</td>\n",
              "      <td>ÍTALO CARDOSO</td>\n",
              "      <td>C - MATERIAIS E SERVIÇOS DE MANUT E CONSERV DE...</td>\n",
              "      <td>PEDÁGIO</td>\n",
              "    </tr>\n",
              "    <tr>\n",
              "      <th>542299</th>\n",
              "      <td>2006</td>\n",
              "      <td>300441</td>\n",
              "      <td>12</td>\n",
              "      <td>63.2</td>\n",
              "      <td>NaN</td>\n",
              "      <td>ÍTALO CARDOSO</td>\n",
              "      <td>C - MATERIAIS E SERVIÇOS DE MANUT E CONSERV DE...</td>\n",
              "      <td>PEDÁGIO</td>\n",
              "    </tr>\n",
              "    <tr>\n",
              "      <th>542326</th>\n",
              "      <td>2007</td>\n",
              "      <td>300441</td>\n",
              "      <td>1</td>\n",
              "      <td>14.6</td>\n",
              "      <td>NaN</td>\n",
              "      <td>ÍTALO CARDOSO</td>\n",
              "      <td>C - MATERIAIS E SERVIÇOS DE MANUT E CONSERV DE...</td>\n",
              "      <td>PEDÁGIO</td>\n",
              "    </tr>\n",
              "    <tr>\n",
              "      <th>542380</th>\n",
              "      <td>2007</td>\n",
              "      <td>300441</td>\n",
              "      <td>3</td>\n",
              "      <td>12.7</td>\n",
              "      <td>NaN</td>\n",
              "      <td>ÍTALO CARDOSO</td>\n",
              "      <td>C - MATERIAIS E SERVIÇOS DE MANUT E CONSERV DE...</td>\n",
              "      <td>PEDÁGIO</td>\n",
              "    </tr>\n",
              "  </tbody>\n",
              "</table>\n",
              "<p>10967 rows × 8 columns</p>\n",
              "</div>\n",
              "      <button class=\"colab-df-convert\" onclick=\"convertToInteractive('df-a69596c0-5bd9-4a59-b305-3d0edf2d69bf')\"\n",
              "              title=\"Convert this dataframe to an interactive table.\"\n",
              "              style=\"display:none;\">\n",
              "        \n",
              "  <svg xmlns=\"http://www.w3.org/2000/svg\" height=\"24px\"viewBox=\"0 0 24 24\"\n",
              "       width=\"24px\">\n",
              "    <path d=\"M0 0h24v24H0V0z\" fill=\"none\"/>\n",
              "    <path d=\"M18.56 5.44l.94 2.06.94-2.06 2.06-.94-2.06-.94-.94-2.06-.94 2.06-2.06.94zm-11 1L8.5 8.5l.94-2.06 2.06-.94-2.06-.94L8.5 2.5l-.94 2.06-2.06.94zm10 10l.94 2.06.94-2.06 2.06-.94-2.06-.94-.94-2.06-.94 2.06-2.06.94z\"/><path d=\"M17.41 7.96l-1.37-1.37c-.4-.4-.92-.59-1.43-.59-.52 0-1.04.2-1.43.59L10.3 9.45l-7.72 7.72c-.78.78-.78 2.05 0 2.83L4 21.41c.39.39.9.59 1.41.59.51 0 1.02-.2 1.41-.59l7.78-7.78 2.81-2.81c.8-.78.8-2.07 0-2.86zM5.41 20L4 18.59l7.72-7.72 1.47 1.35L5.41 20z\"/>\n",
              "  </svg>\n",
              "      </button>\n",
              "      \n",
              "  <style>\n",
              "    .colab-df-container {\n",
              "      display:flex;\n",
              "      flex-wrap:wrap;\n",
              "      gap: 12px;\n",
              "    }\n",
              "\n",
              "    .colab-df-convert {\n",
              "      background-color: #E8F0FE;\n",
              "      border: none;\n",
              "      border-radius: 50%;\n",
              "      cursor: pointer;\n",
              "      display: none;\n",
              "      fill: #1967D2;\n",
              "      height: 32px;\n",
              "      padding: 0 0 0 0;\n",
              "      width: 32px;\n",
              "    }\n",
              "\n",
              "    .colab-df-convert:hover {\n",
              "      background-color: #E2EBFA;\n",
              "      box-shadow: 0px 1px 2px rgba(60, 64, 67, 0.3), 0px 1px 3px 1px rgba(60, 64, 67, 0.15);\n",
              "      fill: #174EA6;\n",
              "    }\n",
              "\n",
              "    [theme=dark] .colab-df-convert {\n",
              "      background-color: #3B4455;\n",
              "      fill: #D2E3FC;\n",
              "    }\n",
              "\n",
              "    [theme=dark] .colab-df-convert:hover {\n",
              "      background-color: #434B5C;\n",
              "      box-shadow: 0px 1px 3px 1px rgba(0, 0, 0, 0.15);\n",
              "      filter: drop-shadow(0px 1px 2px rgba(0, 0, 0, 0.3));\n",
              "      fill: #FFFFFF;\n",
              "    }\n",
              "  </style>\n",
              "\n",
              "      <script>\n",
              "        const buttonEl =\n",
              "          document.querySelector('#df-a69596c0-5bd9-4a59-b305-3d0edf2d69bf button.colab-df-convert');\n",
              "        buttonEl.style.display =\n",
              "          google.colab.kernel.accessAllowed ? 'block' : 'none';\n",
              "\n",
              "        async function convertToInteractive(key) {\n",
              "          const element = document.querySelector('#df-a69596c0-5bd9-4a59-b305-3d0edf2d69bf');\n",
              "          const dataTable =\n",
              "            await google.colab.kernel.invokeFunction('convertToInteractive',\n",
              "                                                     [key], {});\n",
              "          if (!dataTable) return;\n",
              "\n",
              "          const docLinkHtml = 'Like what you see? Visit the ' +\n",
              "            '<a target=\"_blank\" href=https://colab.research.google.com/notebooks/data_table.ipynb>data table notebook</a>'\n",
              "            + ' to learn more about interactive tables.';\n",
              "          element.innerHTML = '';\n",
              "          dataTable['output_type'] = 'display_data';\n",
              "          await google.colab.output.renderOutput(dataTable, element);\n",
              "          const docLink = document.createElement('div');\n",
              "          docLink.innerHTML = docLinkHtml;\n",
              "          element.appendChild(docLink);\n",
              "        }\n",
              "      </script>\n",
              "    </div>\n",
              "  </div>\n",
              "  "
            ]
          },
          "metadata": {},
          "execution_count": 10
        }
      ]
    },
    {
      "cell_type": "markdown",
      "source": [
        "#Schema validation"
      ],
      "metadata": {
        "id": "eeowWsqubzSH"
      }
    },
    {
      "cell_type": "code",
      "source": [
        "df.dtypes"
      ],
      "metadata": {
        "colab": {
          "base_uri": "https://localhost:8080/"
        },
        "id": "Tr49fMbcZjOQ",
        "outputId": "b7ae57c4-4dfd-4b4b-eb66-452ab1414d19"
      },
      "execution_count": null,
      "outputs": [
        {
          "output_type": "execute_result",
          "data": {
            "text/plain": [
              "Ano             int64\n",
              "Matricula       int64\n",
              "Mes             int64\n",
              "Valor         float64\n",
              "CNPJ           object\n",
              "Deputado       object\n",
              "Tipo           object\n",
              "Fornecedor     object\n",
              "dtype: object"
            ]
          },
          "metadata": {},
          "execution_count": 11
        }
      ]
    },
    {
      "cell_type": "code",
      "source": [
        "schema = pa.DataFrameSchema(\n",
        "    columns = {\n",
        "        'Ano':pa.Column(pa.Int),\n",
        "        'Matricula':pa.Column(pa.Int),\n",
        "        'Mes':pa.Column(pa.Int),\n",
        "        'Valor':pa.Column(pa.Float),\n",
        "        'CNPJ':pa.Column(pa.String,nullable=True),\n",
        "        'Deputado':pa.Column(pa.String),\n",
        "        'Tipo':pa.Column(pa.String),\n",
        "        'Fornecedor':pa.Column(pa.String)\n",
        "    }\n",
        ")"
      ],
      "metadata": {
        "id": "glkToJGAb1pW"
      },
      "execution_count": null,
      "outputs": []
    },
    {
      "cell_type": "code",
      "source": [
        "schema.validate(df)"
      ],
      "metadata": {
        "colab": {
          "base_uri": "https://localhost:8080/",
          "height": 624
        },
        "id": "4VTthvhOcldU",
        "outputId": "5fe364ca-2926-47db-a90b-184c861e01e1"
      },
      "execution_count": null,
      "outputs": [
        {
          "output_type": "execute_result",
          "data": {
            "text/plain": [
              "         Ano  Matricula  Mes    Valor              CNPJ            Deputado  \\\n",
              "0       2015     300257    3   200.00    71806251000106  ABELARDO CAMARINHA   \n",
              "1       2015     300257    3   295.40    68064740000125  ABELARDO CAMARINHA   \n",
              "2       2015     300257    3  2850.00       22145388877  ABELARDO CAMARINHA   \n",
              "3       2015     300257    4   100.00    10915883000113  ABELARDO CAMARINHA   \n",
              "4       2015     300257    4   195.01    71806251000106  ABELARDO CAMARINHA   \n",
              "...      ...        ...  ...      ...               ...                 ...   \n",
              "542390  2007     300441    3   120.00   6306675000140.0       ÍTALO CARDOSO   \n",
              "542391  2007     300441    3  2096.80  52204617000122.0       ÍTALO CARDOSO   \n",
              "542392  2007     300441    3    13.48  62925474000282.0       ÍTALO CARDOSO   \n",
              "542393  2007     300441    3    38.08  66747577000170.0       ÍTALO CARDOSO   \n",
              "542394  2007     300441    3  2994.00   7047000000196.0       ÍTALO CARDOSO   \n",
              "\n",
              "                                                     Tipo  \\\n",
              "0                        A - COMBUSTÍVEIS E LUBRIFICANTES   \n",
              "1       E - MATERIAIS DE ESCRITÓRIO E OUTROS MATERIAIS...   \n",
              "2                                             N - MORADIA   \n",
              "3                        A - COMBUSTÍVEIS E LUBRIFICANTES   \n",
              "4                        A - COMBUSTÍVEIS E LUBRIFICANTES   \n",
              "...                                                   ...   \n",
              "542390  I - HOSPEDAGEM, ALIMENTAÇÃO E DESPESAS DE LOCO...   \n",
              "542391  I - HOSPEDAGEM, ALIMENTAÇÃO E DESPESAS DE LOCO...   \n",
              "542392  I - HOSPEDAGEM, ALIMENTAÇÃO E DESPESAS DE LOCO...   \n",
              "542393  I - HOSPEDAGEM, ALIMENTAÇÃO E DESPESAS DE LOCO...   \n",
              "542394                        J - SERVIÇOS DE COMUNICAÇÃO   \n",
              "\n",
              "                                       Fornecedor  \n",
              "0                AUTO POSTO DE SERVIÇOS MARV LTDA  \n",
              "1                       PAPER FACE COMERCIAL LTDA  \n",
              "2                       LARA SERVINO VARGAS ABREU  \n",
              "3                   CENTRO AUTOMOTIVO TOP 23 LTDA  \n",
              "4                AUTO POSTO DE SERVIÇOS MARV LTDA  \n",
              "...                                           ...  \n",
              "542390                        OPTEI EXPRESS LTDA.  \n",
              "542391                   CHURRASCARIA JANDA LTDA.  \n",
              "542392  ASSOCIAÇÃO FUNC.ASSEMB.LEG. EST.SÃO PAULO  \n",
              "542393              IBIZA EUROPEIA ALIMENTOS LTDA  \n",
              "542394         ECT-EMP.BRAS.CORREIOS E TELEGRAFOS  \n",
              "\n",
              "[542395 rows x 8 columns]"
            ],
            "text/html": [
              "\n",
              "  <div id=\"df-eaf9690f-e14f-4e4b-a06b-068fcc2cbf37\">\n",
              "    <div class=\"colab-df-container\">\n",
              "      <div>\n",
              "<style scoped>\n",
              "    .dataframe tbody tr th:only-of-type {\n",
              "        vertical-align: middle;\n",
              "    }\n",
              "\n",
              "    .dataframe tbody tr th {\n",
              "        vertical-align: top;\n",
              "    }\n",
              "\n",
              "    .dataframe thead th {\n",
              "        text-align: right;\n",
              "    }\n",
              "</style>\n",
              "<table border=\"1\" class=\"dataframe\">\n",
              "  <thead>\n",
              "    <tr style=\"text-align: right;\">\n",
              "      <th></th>\n",
              "      <th>Ano</th>\n",
              "      <th>Matricula</th>\n",
              "      <th>Mes</th>\n",
              "      <th>Valor</th>\n",
              "      <th>CNPJ</th>\n",
              "      <th>Deputado</th>\n",
              "      <th>Tipo</th>\n",
              "      <th>Fornecedor</th>\n",
              "    </tr>\n",
              "  </thead>\n",
              "  <tbody>\n",
              "    <tr>\n",
              "      <th>0</th>\n",
              "      <td>2015</td>\n",
              "      <td>300257</td>\n",
              "      <td>3</td>\n",
              "      <td>200.00</td>\n",
              "      <td>71806251000106</td>\n",
              "      <td>ABELARDO CAMARINHA</td>\n",
              "      <td>A - COMBUSTÍVEIS E LUBRIFICANTES</td>\n",
              "      <td>AUTO POSTO DE SERVIÇOS MARV LTDA</td>\n",
              "    </tr>\n",
              "    <tr>\n",
              "      <th>1</th>\n",
              "      <td>2015</td>\n",
              "      <td>300257</td>\n",
              "      <td>3</td>\n",
              "      <td>295.40</td>\n",
              "      <td>68064740000125</td>\n",
              "      <td>ABELARDO CAMARINHA</td>\n",
              "      <td>E - MATERIAIS DE ESCRITÓRIO E OUTROS MATERIAIS...</td>\n",
              "      <td>PAPER FACE COMERCIAL LTDA</td>\n",
              "    </tr>\n",
              "    <tr>\n",
              "      <th>2</th>\n",
              "      <td>2015</td>\n",
              "      <td>300257</td>\n",
              "      <td>3</td>\n",
              "      <td>2850.00</td>\n",
              "      <td>22145388877</td>\n",
              "      <td>ABELARDO CAMARINHA</td>\n",
              "      <td>N - MORADIA</td>\n",
              "      <td>LARA SERVINO VARGAS ABREU</td>\n",
              "    </tr>\n",
              "    <tr>\n",
              "      <th>3</th>\n",
              "      <td>2015</td>\n",
              "      <td>300257</td>\n",
              "      <td>4</td>\n",
              "      <td>100.00</td>\n",
              "      <td>10915883000113</td>\n",
              "      <td>ABELARDO CAMARINHA</td>\n",
              "      <td>A - COMBUSTÍVEIS E LUBRIFICANTES</td>\n",
              "      <td>CENTRO AUTOMOTIVO TOP 23 LTDA</td>\n",
              "    </tr>\n",
              "    <tr>\n",
              "      <th>4</th>\n",
              "      <td>2015</td>\n",
              "      <td>300257</td>\n",
              "      <td>4</td>\n",
              "      <td>195.01</td>\n",
              "      <td>71806251000106</td>\n",
              "      <td>ABELARDO CAMARINHA</td>\n",
              "      <td>A - COMBUSTÍVEIS E LUBRIFICANTES</td>\n",
              "      <td>AUTO POSTO DE SERVIÇOS MARV LTDA</td>\n",
              "    </tr>\n",
              "    <tr>\n",
              "      <th>...</th>\n",
              "      <td>...</td>\n",
              "      <td>...</td>\n",
              "      <td>...</td>\n",
              "      <td>...</td>\n",
              "      <td>...</td>\n",
              "      <td>...</td>\n",
              "      <td>...</td>\n",
              "      <td>...</td>\n",
              "    </tr>\n",
              "    <tr>\n",
              "      <th>542390</th>\n",
              "      <td>2007</td>\n",
              "      <td>300441</td>\n",
              "      <td>3</td>\n",
              "      <td>120.00</td>\n",
              "      <td>6306675000140.0</td>\n",
              "      <td>ÍTALO CARDOSO</td>\n",
              "      <td>I - HOSPEDAGEM, ALIMENTAÇÃO E DESPESAS DE LOCO...</td>\n",
              "      <td>OPTEI EXPRESS LTDA.</td>\n",
              "    </tr>\n",
              "    <tr>\n",
              "      <th>542391</th>\n",
              "      <td>2007</td>\n",
              "      <td>300441</td>\n",
              "      <td>3</td>\n",
              "      <td>2096.80</td>\n",
              "      <td>52204617000122.0</td>\n",
              "      <td>ÍTALO CARDOSO</td>\n",
              "      <td>I - HOSPEDAGEM, ALIMENTAÇÃO E DESPESAS DE LOCO...</td>\n",
              "      <td>CHURRASCARIA JANDA LTDA.</td>\n",
              "    </tr>\n",
              "    <tr>\n",
              "      <th>542392</th>\n",
              "      <td>2007</td>\n",
              "      <td>300441</td>\n",
              "      <td>3</td>\n",
              "      <td>13.48</td>\n",
              "      <td>62925474000282.0</td>\n",
              "      <td>ÍTALO CARDOSO</td>\n",
              "      <td>I - HOSPEDAGEM, ALIMENTAÇÃO E DESPESAS DE LOCO...</td>\n",
              "      <td>ASSOCIAÇÃO FUNC.ASSEMB.LEG. EST.SÃO PAULO</td>\n",
              "    </tr>\n",
              "    <tr>\n",
              "      <th>542393</th>\n",
              "      <td>2007</td>\n",
              "      <td>300441</td>\n",
              "      <td>3</td>\n",
              "      <td>38.08</td>\n",
              "      <td>66747577000170.0</td>\n",
              "      <td>ÍTALO CARDOSO</td>\n",
              "      <td>I - HOSPEDAGEM, ALIMENTAÇÃO E DESPESAS DE LOCO...</td>\n",
              "      <td>IBIZA EUROPEIA ALIMENTOS LTDA</td>\n",
              "    </tr>\n",
              "    <tr>\n",
              "      <th>542394</th>\n",
              "      <td>2007</td>\n",
              "      <td>300441</td>\n",
              "      <td>3</td>\n",
              "      <td>2994.00</td>\n",
              "      <td>7047000000196.0</td>\n",
              "      <td>ÍTALO CARDOSO</td>\n",
              "      <td>J - SERVIÇOS DE COMUNICAÇÃO</td>\n",
              "      <td>ECT-EMP.BRAS.CORREIOS E TELEGRAFOS</td>\n",
              "    </tr>\n",
              "  </tbody>\n",
              "</table>\n",
              "<p>542395 rows × 8 columns</p>\n",
              "</div>\n",
              "      <button class=\"colab-df-convert\" onclick=\"convertToInteractive('df-eaf9690f-e14f-4e4b-a06b-068fcc2cbf37')\"\n",
              "              title=\"Convert this dataframe to an interactive table.\"\n",
              "              style=\"display:none;\">\n",
              "        \n",
              "  <svg xmlns=\"http://www.w3.org/2000/svg\" height=\"24px\"viewBox=\"0 0 24 24\"\n",
              "       width=\"24px\">\n",
              "    <path d=\"M0 0h24v24H0V0z\" fill=\"none\"/>\n",
              "    <path d=\"M18.56 5.44l.94 2.06.94-2.06 2.06-.94-2.06-.94-.94-2.06-.94 2.06-2.06.94zm-11 1L8.5 8.5l.94-2.06 2.06-.94-2.06-.94L8.5 2.5l-.94 2.06-2.06.94zm10 10l.94 2.06.94-2.06 2.06-.94-2.06-.94-.94-2.06-.94 2.06-2.06.94z\"/><path d=\"M17.41 7.96l-1.37-1.37c-.4-.4-.92-.59-1.43-.59-.52 0-1.04.2-1.43.59L10.3 9.45l-7.72 7.72c-.78.78-.78 2.05 0 2.83L4 21.41c.39.39.9.59 1.41.59.51 0 1.02-.2 1.41-.59l7.78-7.78 2.81-2.81c.8-.78.8-2.07 0-2.86zM5.41 20L4 18.59l7.72-7.72 1.47 1.35L5.41 20z\"/>\n",
              "  </svg>\n",
              "      </button>\n",
              "      \n",
              "  <style>\n",
              "    .colab-df-container {\n",
              "      display:flex;\n",
              "      flex-wrap:wrap;\n",
              "      gap: 12px;\n",
              "    }\n",
              "\n",
              "    .colab-df-convert {\n",
              "      background-color: #E8F0FE;\n",
              "      border: none;\n",
              "      border-radius: 50%;\n",
              "      cursor: pointer;\n",
              "      display: none;\n",
              "      fill: #1967D2;\n",
              "      height: 32px;\n",
              "      padding: 0 0 0 0;\n",
              "      width: 32px;\n",
              "    }\n",
              "\n",
              "    .colab-df-convert:hover {\n",
              "      background-color: #E2EBFA;\n",
              "      box-shadow: 0px 1px 2px rgba(60, 64, 67, 0.3), 0px 1px 3px 1px rgba(60, 64, 67, 0.15);\n",
              "      fill: #174EA6;\n",
              "    }\n",
              "\n",
              "    [theme=dark] .colab-df-convert {\n",
              "      background-color: #3B4455;\n",
              "      fill: #D2E3FC;\n",
              "    }\n",
              "\n",
              "    [theme=dark] .colab-df-convert:hover {\n",
              "      background-color: #434B5C;\n",
              "      box-shadow: 0px 1px 3px 1px rgba(0, 0, 0, 0.15);\n",
              "      filter: drop-shadow(0px 1px 2px rgba(0, 0, 0, 0.3));\n",
              "      fill: #FFFFFF;\n",
              "    }\n",
              "  </style>\n",
              "\n",
              "      <script>\n",
              "        const buttonEl =\n",
              "          document.querySelector('#df-eaf9690f-e14f-4e4b-a06b-068fcc2cbf37 button.colab-df-convert');\n",
              "        buttonEl.style.display =\n",
              "          google.colab.kernel.accessAllowed ? 'block' : 'none';\n",
              "\n",
              "        async function convertToInteractive(key) {\n",
              "          const element = document.querySelector('#df-eaf9690f-e14f-4e4b-a06b-068fcc2cbf37');\n",
              "          const dataTable =\n",
              "            await google.colab.kernel.invokeFunction('convertToInteractive',\n",
              "                                                     [key], {});\n",
              "          if (!dataTable) return;\n",
              "\n",
              "          const docLinkHtml = 'Like what you see? Visit the ' +\n",
              "            '<a target=\"_blank\" href=https://colab.research.google.com/notebooks/data_table.ipynb>data table notebook</a>'\n",
              "            + ' to learn more about interactive tables.';\n",
              "          element.innerHTML = '';\n",
              "          dataTable['output_type'] = 'display_data';\n",
              "          await google.colab.output.renderOutput(dataTable, element);\n",
              "          const docLink = document.createElement('div');\n",
              "          docLink.innerHTML = docLinkHtml;\n",
              "          element.appendChild(docLink);\n",
              "        }\n",
              "      </script>\n",
              "    </div>\n",
              "  </div>\n",
              "  "
            ]
          },
          "metadata": {},
          "execution_count": 15
        }
      ]
    },
    {
      "cell_type": "markdown",
      "source": [
        "#Filter"
      ],
      "metadata": {
        "id": "smRLx5LLeQcT"
      }
    },
    {
      "cell_type": "code",
      "source": [
        "ftdeputados = df.Deputado"
      ],
      "metadata": {
        "id": "4aBVUmBeeS4Z"
      },
      "execution_count": null,
      "outputs": []
    },
    {
      "cell_type": "code",
      "source": [
        "ft4anos = (df.Ano >= 2020) & (df.Ano <=2023)"
      ],
      "metadata": {
        "id": "FajkDKZ2e4f4"
      },
      "execution_count": null,
      "outputs": []
    },
    {
      "cell_type": "code",
      "source": [
        "ftgastos = df.Valor"
      ],
      "metadata": {
        "id": "F5vvWq7lfVmn"
      },
      "execution_count": null,
      "outputs": []
    },
    {
      "cell_type": "markdown",
      "source": [
        "#GroupBY"
      ],
      "metadata": {
        "id": "owxaehoYdFfs"
      }
    },
    {
      "cell_type": "code",
      "source": [
        "#Fornecedores que mais lucraram\n",
        "valor_por_fornecedor = df.groupby('Fornecedor')['Valor'].sum()"
      ],
      "metadata": {
        "id": "XGTrJCD9trVG"
      },
      "execution_count": null,
      "outputs": []
    },
    {
      "cell_type": "code",
      "source": [
        "maiores_lucros = valor_por_fornecedor.sort_values(ascending=False).head(5)"
      ],
      "metadata": {
        "id": "duznBSJut7Gq"
      },
      "execution_count": null,
      "outputs": []
    },
    {
      "cell_type": "code",
      "source": [
        "maiores_lucros"
      ],
      "metadata": {
        "colab": {
          "base_uri": "https://localhost:8080/"
        },
        "id": "w79r6o86uZhY",
        "outputId": "f3074972-653c-488e-f57c-cc432a501636"
      },
      "execution_count": null,
      "outputs": [
        {
          "output_type": "execute_result",
          "data": {
            "text/plain": [
              "Fornecedor\n",
              "UNIDAS VEÍCULOS ESPECIAIS S.A.    3664253.77\n",
              "TELEFONICA                        3224226.02\n",
              "TELEFONICA BRASIL S.A.            3005516.94\n",
              "TELEFÔNICA BRASIL S.A.            2324816.57\n",
              "TELEFONICA BRASIL S.A             2306443.64\n",
              "Name: Valor, dtype: float64"
            ]
          },
          "metadata": {},
          "execution_count": 104
        }
      ]
    },
    {
      "cell_type": "code",
      "source": [
        "#Gastos por deputado total\n",
        "gastos_por_deputado_total = df.groupby('Deputado')['Valor'].sum()"
      ],
      "metadata": {
        "id": "rxz0lwNhdHQS"
      },
      "execution_count": null,
      "outputs": []
    },
    {
      "cell_type": "code",
      "source": [
        "maiores_gastos = gastos_por_deputado_total.sort_values(ascending=False).head(3)"
      ],
      "metadata": {
        "id": "UtVcuvEFkKAK"
      },
      "execution_count": null,
      "outputs": []
    },
    {
      "cell_type": "code",
      "source": [
        "menores_gastos = gastos_por_deputado_total.sort_values(ascending=True).head(3)"
      ],
      "metadata": {
        "id": "Yv1dNdmAmYUr"
      },
      "execution_count": null,
      "outputs": []
    },
    {
      "cell_type": "code",
      "source": [
        "maiores_gastos"
      ],
      "metadata": {
        "colab": {
          "base_uri": "https://localhost:8080/"
        },
        "id": "nzgqFuRrkW8e",
        "outputId": "b4fe8315-e9a6-4ffd-b390-d6fe05cfb629"
      },
      "execution_count": null,
      "outputs": [
        {
          "output_type": "execute_result",
          "data": {
            "text/plain": [
              "Deputado\n",
              "CAMPOS MACHADO       5691197.91\n",
              "ENIO TATTO           5363451.90\n",
              "MARIA LÚCIA AMARY    5297913.91\n",
              "Name: Valor, dtype: float64"
            ]
          },
          "metadata": {},
          "execution_count": 96
        }
      ]
    },
    {
      "cell_type": "code",
      "source": [
        "maiores_gastos.sort_values(ascending=False).plot.bar(figsize=(12,8),xlabel='Tipo de Serviço',ylabel='Mi R$')"
      ],
      "metadata": {
        "colab": {
          "base_uri": "https://localhost:8080/",
          "height": 617
        },
        "id": "TwOWgDPey2bO",
        "outputId": "05b1ec77-b6d4-4381-fe56-d6f3d3322082"
      },
      "execution_count": null,
      "outputs": [
        {
          "output_type": "execute_result",
          "data": {
            "text/plain": [
              "<AxesSubplot:xlabel='Tipo de Serviço', ylabel='Mi R$'>"
            ]
          },
          "metadata": {},
          "execution_count": 114
        },
        {
          "output_type": "display_data",
          "data": {
            "text/plain": [
              "<Figure size 864x576 with 1 Axes>"
            ],
            "image/png": "[encoded data removed]"
          },
          "metadata": {
            "needs_background": "light"
          }
        }
      ]
    },
    {
      "cell_type": "code",
      "source": [
        "menores_gastos"
      ],
      "metadata": {
        "colab": {
          "base_uri": "https://localhost:8080/"
        },
        "id": "Gug520mtmjEX",
        "outputId": "6864622d-f1eb-42db-b1f4-73f30749d3e2"
      },
      "execution_count": null,
      "outputs": [
        {
          "output_type": "execute_result",
          "data": {
            "text/plain": [
              "Deputado\n",
              "ANTÔNIO AGUIMARÃES DE CALDAS    2225.63\n",
              "MAJOR MAURO                     2311.53\n",
              "ULISSES SALES                   2653.53\n",
              "Name: Valor, dtype: float64"
            ]
          },
          "metadata": {},
          "execution_count": 97
        }
      ]
    },
    {
      "cell_type": "code",
      "source": [
        "menores_gastos.sort_values(ascending=False).plot.bar(figsize=(12,8),xlabel='Tipo de Serviço',ylabel='Mil R$')"
      ],
      "metadata": {
        "colab": {
          "base_uri": "https://localhost:8080/",
          "height": 680
        },
        "id": "3ZThI_IoyYFa",
        "outputId": "dc55bcc3-140c-4d3b-a372-c43c89b206aa"
      },
      "execution_count": null,
      "outputs": [
        {
          "output_type": "execute_result",
          "data": {
            "text/plain": [
              "<AxesSubplot:xlabel='Tipo de Serviço', ylabel='Mil R$'>"
            ]
          },
          "metadata": {},
          "execution_count": 113
        },
        {
          "output_type": "display_data",
          "data": {
            "text/plain": [
              "<Figure size 864x576 with 1 Axes>"
            ],
            "image/png": "[encoded data removed]"
          },
          "metadata": {
            "needs_background": "light"
          }
        }
      ]
    },
    {
      "cell_type": "markdown",
      "source": [
        "#Last 4 years"
      ],
      "metadata": {
        "id": "LNeUYVgqozct"
      }
    },
    {
      "cell_type": "code",
      "source": [
        "df.dtypes"
      ],
      "metadata": {
        "colab": {
          "base_uri": "https://localhost:8080/"
        },
        "id": "gv00cAUJrJxr",
        "outputId": "bb4ddfb1-faaf-4a9f-e1ee-faf30ebe00e1"
      },
      "execution_count": null,
      "outputs": [
        {
          "output_type": "execute_result",
          "data": {
            "text/plain": [
              "Ano             int64\n",
              "Matricula       int64\n",
              "Mes             int64\n",
              "Valor         float64\n",
              "CNPJ           object\n",
              "Deputado       object\n",
              "Tipo           object\n",
              "Fornecedor     object\n",
              "dtype: object"
            ]
          },
          "metadata": {},
          "execution_count": 78
        }
      ]
    },
    {
      "cell_type": "code",
      "source": [
        "df.head(4)"
      ],
      "metadata": {
        "colab": {
          "base_uri": "https://localhost:8080/",
          "height": 219
        },
        "id": "V2o0c6LHqLV3",
        "outputId": "b91ffeeb-731a-4973-f6c4-6c220943952f"
      },
      "execution_count": null,
      "outputs": [
        {
          "output_type": "execute_result",
          "data": {
            "text/plain": [
              "    Ano  Matricula  Mes   Valor            CNPJ            Deputado  \\\n",
              "0  2015     300257    3   200.0  71806251000106  ABELARDO CAMARINHA   \n",
              "1  2015     300257    3   295.4  68064740000125  ABELARDO CAMARINHA   \n",
              "2  2015     300257    3  2850.0     22145388877  ABELARDO CAMARINHA   \n",
              "3  2015     300257    4   100.0  10915883000113  ABELARDO CAMARINHA   \n",
              "\n",
              "                                                Tipo  \\\n",
              "0                   A - COMBUSTÍVEIS E LUBRIFICANTES   \n",
              "1  E - MATERIAIS DE ESCRITÓRIO E OUTROS MATERIAIS...   \n",
              "2                                        N - MORADIA   \n",
              "3                   A - COMBUSTÍVEIS E LUBRIFICANTES   \n",
              "\n",
              "                         Fornecedor  \n",
              "0  AUTO POSTO DE SERVIÇOS MARV LTDA  \n",
              "1         PAPER FACE COMERCIAL LTDA  \n",
              "2         LARA SERVINO VARGAS ABREU  \n",
              "3     CENTRO AUTOMOTIVO TOP 23 LTDA  "
            ],
            "text/html": [
              "\n",
              "  <div id=\"df-a3830c57-8ea4-4a42-bbbb-6db47fbaec1a\">\n",
              "    <div class=\"colab-df-container\">\n",
              "      <div>\n",
              "<style scoped>\n",
              "    .dataframe tbody tr th:only-of-type {\n",
              "        vertical-align: middle;\n",
              "    }\n",
              "\n",
              "    .dataframe tbody tr th {\n",
              "        vertical-align: top;\n",
              "    }\n",
              "\n",
              "    .dataframe thead th {\n",
              "        text-align: right;\n",
              "    }\n",
              "</style>\n",
              "<table border=\"1\" class=\"dataframe\">\n",
              "  <thead>\n",
              "    <tr style=\"text-align: right;\">\n",
              "      <th></th>\n",
              "      <th>Ano</th>\n",
              "      <th>Matricula</th>\n",
              "      <th>Mes</th>\n",
              "      <th>Valor</th>\n",
              "      <th>CNPJ</th>\n",
              "      <th>Deputado</th>\n",
              "      <th>Tipo</th>\n",
              "      <th>Fornecedor</th>\n",
              "    </tr>\n",
              "  </thead>\n",
              "  <tbody>\n",
              "    <tr>\n",
              "      <th>0</th>\n",
              "      <td>2015</td>\n",
              "      <td>300257</td>\n",
              "      <td>3</td>\n",
              "      <td>200.0</td>\n",
              "      <td>71806251000106</td>\n",
              "      <td>ABELARDO CAMARINHA</td>\n",
              "      <td>A - COMBUSTÍVEIS E LUBRIFICANTES</td>\n",
              "      <td>AUTO POSTO DE SERVIÇOS MARV LTDA</td>\n",
              "    </tr>\n",
              "    <tr>\n",
              "      <th>1</th>\n",
              "      <td>2015</td>\n",
              "      <td>300257</td>\n",
              "      <td>3</td>\n",
              "      <td>295.4</td>\n",
              "      <td>68064740000125</td>\n",
              "      <td>ABELARDO CAMARINHA</td>\n",
              "      <td>E - MATERIAIS DE ESCRITÓRIO E OUTROS MATERIAIS...</td>\n",
              "      <td>PAPER FACE COMERCIAL LTDA</td>\n",
              "    </tr>\n",
              "    <tr>\n",
              "      <th>2</th>\n",
              "      <td>2015</td>\n",
              "      <td>300257</td>\n",
              "      <td>3</td>\n",
              "      <td>2850.0</td>\n",
              "      <td>22145388877</td>\n",
              "      <td>ABELARDO CAMARINHA</td>\n",
              "      <td>N - MORADIA</td>\n",
              "      <td>LARA SERVINO VARGAS ABREU</td>\n",
              "    </tr>\n",
              "    <tr>\n",
              "      <th>3</th>\n",
              "      <td>2015</td>\n",
              "      <td>300257</td>\n",
              "      <td>4</td>\n",
              "      <td>100.0</td>\n",
              "      <td>10915883000113</td>\n",
              "      <td>ABELARDO CAMARINHA</td>\n",
              "      <td>A - COMBUSTÍVEIS E LUBRIFICANTES</td>\n",
              "      <td>CENTRO AUTOMOTIVO TOP 23 LTDA</td>\n",
              "    </tr>\n",
              "  </tbody>\n",
              "</table>\n",
              "</div>\n",
              "      <button class=\"colab-df-convert\" onclick=\"convertToInteractive('df-a3830c57-8ea4-4a42-bbbb-6db47fbaec1a')\"\n",
              "              title=\"Convert this dataframe to an interactive table.\"\n",
              "              style=\"display:none;\">\n",
              "        \n",
              "  <svg xmlns=\"http://www.w3.org/2000/svg\" height=\"24px\"viewBox=\"0 0 24 24\"\n",
              "       width=\"24px\">\n",
              "    <path d=\"M0 0h24v24H0V0z\" fill=\"none\"/>\n",
              "    <path d=\"M18.56 5.44l.94 2.06.94-2.06 2.06-.94-2.06-.94-.94-2.06-.94 2.06-2.06.94zm-11 1L8.5 8.5l.94-2.06 2.06-.94-2.06-.94L8.5 2.5l-.94 2.06-2.06.94zm10 10l.94 2.06.94-2.06 2.06-.94-2.06-.94-.94-2.06-.94 2.06-2.06.94z\"/><path d=\"M17.41 7.96l-1.37-1.37c-.4-.4-.92-.59-1.43-.59-.52 0-1.04.2-1.43.59L10.3 9.45l-7.72 7.72c-.78.78-.78 2.05 0 2.83L4 21.41c.39.39.9.59 1.41.59.51 0 1.02-.2 1.41-.59l7.78-7.78 2.81-2.81c.8-.78.8-2.07 0-2.86zM5.41 20L4 18.59l7.72-7.72 1.47 1.35L5.41 20z\"/>\n",
              "  </svg>\n",
              "      </button>\n",
              "      \n",
              "  <style>\n",
              "    .colab-df-container {\n",
              "      display:flex;\n",
              "      flex-wrap:wrap;\n",
              "      gap: 12px;\n",
              "    }\n",
              "\n",
              "    .colab-df-convert {\n",
              "      background-color: #E8F0FE;\n",
              "      border: none;\n",
              "      border-radius: 50%;\n",
              "      cursor: pointer;\n",
              "      display: none;\n",
              "      fill: #1967D2;\n",
              "      height: 32px;\n",
              "      padding: 0 0 0 0;\n",
              "      width: 32px;\n",
              "    }\n",
              "\n",
              "    .colab-df-convert:hover {\n",
              "      background-color: #E2EBFA;\n",
              "      box-shadow: 0px 1px 2px rgba(60, 64, 67, 0.3), 0px 1px 3px 1px rgba(60, 64, 67, 0.15);\n",
              "      fill: #174EA6;\n",
              "    }\n",
              "\n",
              "    [theme=dark] .colab-df-convert {\n",
              "      background-color: #3B4455;\n",
              "      fill: #D2E3FC;\n",
              "    }\n",
              "\n",
              "    [theme=dark] .colab-df-convert:hover {\n",
              "      background-color: #434B5C;\n",
              "      box-shadow: 0px 1px 3px 1px rgba(0, 0, 0, 0.15);\n",
              "      filter: drop-shadow(0px 1px 2px rgba(0, 0, 0, 0.3));\n",
              "      fill: #FFFFFF;\n",
              "    }\n",
              "  </style>\n",
              "\n",
              "      <script>\n",
              "        const buttonEl =\n",
              "          document.querySelector('#df-a3830c57-8ea4-4a42-bbbb-6db47fbaec1a button.colab-df-convert');\n",
              "        buttonEl.style.display =\n",
              "          google.colab.kernel.accessAllowed ? 'block' : 'none';\n",
              "\n",
              "        async function convertToInteractive(key) {\n",
              "          const element = document.querySelector('#df-a3830c57-8ea4-4a42-bbbb-6db47fbaec1a');\n",
              "          const dataTable =\n",
              "            await google.colab.kernel.invokeFunction('convertToInteractive',\n",
              "                                                     [key], {});\n",
              "          if (!dataTable) return;\n",
              "\n",
              "          const docLinkHtml = 'Like what you see? Visit the ' +\n",
              "            '<a target=\"_blank\" href=https://colab.research.google.com/notebooks/data_table.ipynb>data table notebook</a>'\n",
              "            + ' to learn more about interactive tables.';\n",
              "          element.innerHTML = '';\n",
              "          dataTable['output_type'] = 'display_data';\n",
              "          await google.colab.output.renderOutput(dataTable, element);\n",
              "          const docLink = document.createElement('div');\n",
              "          docLink.innerHTML = docLinkHtml;\n",
              "          element.appendChild(docLink);\n",
              "        }\n",
              "      </script>\n",
              "    </div>\n",
              "  </div>\n",
              "  "
            ]
          },
          "metadata": {},
          "execution_count": 69
        }
      ]
    },
    {
      "cell_type": "code",
      "source": [
        "df4anos=df[df['Ano'] >= 2020]"
      ],
      "metadata": {
        "id": "TXsNKhVToYPa"
      },
      "execution_count": null,
      "outputs": []
    },
    {
      "cell_type": "code",
      "source": [
        "#Gastos por tipo\n",
        "tipo4anos = df4anos.groupby('Tipo')"
      ],
      "metadata": {
        "id": "_FtsKjkbqHsH"
      },
      "execution_count": null,
      "outputs": []
    },
    {
      "cell_type": "code",
      "source": [
        "total_tipo_4anos = tipo4anos['Valor'].sum()"
      ],
      "metadata": {
        "id": "78sne6mMq2EC"
      },
      "execution_count": null,
      "outputs": []
    },
    {
      "cell_type": "code",
      "source": [
        "total_tipo_4anos.sort_values(ascending=False)"
      ],
      "metadata": {
        "colab": {
          "base_uri": "https://localhost:8080/"
        },
        "id": "dmZjjpq5rjO_",
        "outputId": "6ac2dd46-550a-4d7a-e8c9-32675b634e3a"
      },
      "execution_count": null,
      "outputs": [
        {
          "output_type": "execute_result",
          "data": {
            "text/plain": [
              "Tipo\n",
              "L - LOCAÇÃO DE BENS IMÓVEIS                                           12358372.38\n",
              "O - LOCAÇÃO DE VEÍCULO                                                10032134.38\n",
              "D - MATERIAIS E SERVIÇOS GRÁFICOS, DE CÓPIAS  E REPRODUÇÃO DE DOCS     9361043.86\n",
              "F - SERVIÇOS TÉCNICOS PROFISSIONAIS (CONSULTORIA, PESQUISAS ETC)       6634090.03\n",
              "K - LOCAÇÃO DE BENS MÓVEIS                                             5994055.06\n",
              "A - COMBUSTÍVEIS E LUBRIFICANTES                                       5182740.34\n",
              "M - MANUTENÇÃO DE BENS MÓVEIS,  IMÓVEIS, CONDOMÍNIOS E OUTROS          2984804.38\n",
              "H - SERV.UTIL.PÚBLICA (TELEF.MÓVEL/FIXA, ENERGIA, ÁGUA, GÁS ETC)       2774555.79\n",
              "E - MATERIAIS DE ESCRITÓRIO E OUTROS MATERIAIS DE CONSUMO              2750755.02\n",
              "I - HOSPEDAGEM, ALIMENTAÇÃO E DESPESAS DE LOCOMOÇÃO                    2100772.47\n",
              "J - SERVIÇOS DE COMUNICAÇÃO                                            1954010.38\n",
              "N - MORADIA                                                            1681115.46\n",
              "P - DIVULGAÇÃO DA ATIVIDADE PARLAMENTAR                                1554983.42\n",
              "G - ASSINATURAS DE PERIÓDICOS, PUBLICAÇÕES, INTERNET E SOFTWARES       1230159.54\n",
              "C - MATERIAIS E SERVIÇOS DE MANUT E CONSERV DE VEÍCULOS ; PEDÁGIOS      189281.06\n",
              "Name: Valor, dtype: float64"
            ]
          },
          "metadata": {},
          "execution_count": 92
        }
      ]
    },
    {
      "cell_type": "code",
      "source": [
        "total_tipo_4anos.sort_values(ascending=False).plot.bar(figsize=(12,8),xlabel='Tipo de Serviço',ylabel='Mi R$')"
      ],
      "metadata": {
        "colab": {
          "base_uri": "https://localhost:8080/",
          "height": 896
        },
        "id": "zNB-bffUwTRc",
        "outputId": "f209fa0e-2807-484f-b226-0f3cfa5e53ef"
      },
      "execution_count": null,
      "outputs": [
        {
          "output_type": "execute_result",
          "data": {
            "text/plain": [
              "<AxesSubplot:xlabel='Tipo de Serviço', ylabel='Mi R$'>"
            ]
          },
          "metadata": {},
          "execution_count": 108
        },
        {
          "output_type": "display_data",
          "data": {
            "text/plain": [
              "<Figure size 864x576 with 1 Axes>"
            ],
            "image/png": "[encoded data removed]"
          },
          "metadata": {
            "needs_background": "light"
          }
        }
      ]
    },
    {
      "cell_type": "code",
      "source": [
        "#Gastos por deputado\n",
        "deps4anos = df4anos.groupby('Deputado')"
      ],
      "metadata": {
        "id": "js3mKw0co5uA"
      },
      "execution_count": null,
      "outputs": []
    },
    {
      "cell_type": "code",
      "source": [
        "total_gasto_4anos=deps4anos['Valor'].sum()"
      ],
      "metadata": {
        "id": "-jeypXsIpJI-"
      },
      "execution_count": null,
      "outputs": []
    },
    {
      "cell_type": "code",
      "source": [
        "total_gasto_4anos"
      ],
      "metadata": {
        "colab": {
          "base_uri": "https://localhost:8080/"
        },
        "id": "vowoazZUpXKY",
        "outputId": "25dba3af-7b39-4425-9d6e-6327c51465b3"
      },
      "execution_count": null,
      "outputs": [
        {
          "output_type": "execute_result",
          "data": {
            "text/plain": [
              "Deputado\n",
              "ADALBERTO FREITAS              1122169.85\n",
              "ADRIANA BORGO                   596620.09\n",
              "AFONSO LOBATO                    68000.04\n",
              "AGENTE FEDERAL DANILO BALAS    1181595.44\n",
              "ALDO DEMARCHI                   292375.63\n",
              "                                  ...    \n",
              "TEONILIO BARBA                 1170167.50\n",
              "THIAGO AURICCHIO                989442.73\n",
              "VALERIA BOLSONARO               808169.23\n",
              "VINÍCIUS CAMARINHA             1263959.28\n",
              "WELLINGTON MOURA               1101063.33\n",
              "Name: Valor, Length: 101, dtype: float64"
            ]
          },
          "metadata": {},
          "execution_count": 74
        }
      ]
    },
    {
      "cell_type": "code",
      "source": [
        "total_gasto_4anos.head(5).sort_values(ascending=False)"
      ],
      "metadata": {
        "colab": {
          "base_uri": "https://localhost:8080/"
        },
        "id": "BD3ltQ6ux4H_",
        "outputId": "a0ff46c2-9498-4674-bfd8-9c0e36001643"
      },
      "execution_count": null,
      "outputs": [
        {
          "output_type": "execute_result",
          "data": {
            "text/plain": [
              "Deputado\n",
              "AGENTE FEDERAL DANILO BALAS    1181595.44\n",
              "ADALBERTO FREITAS              1122169.85\n",
              "ADRIANA BORGO                   596620.09\n",
              "ALDO DEMARCHI                   292375.63\n",
              "AFONSO LOBATO                    68000.04\n",
              "Name: Valor, dtype: float64"
            ]
          },
          "metadata": {},
          "execution_count": 112
        }
      ]
    },
    {
      "cell_type": "code",
      "source": [
        "total_gasto_4anos.head(5).sort_values(ascending=False).plot.bar(figsize=(12,8),xlabel='Deputado',ylabel='Mi R$')"
      ],
      "metadata": {
        "colab": {
          "base_uri": "https://localhost:8080/",
          "height": 680
        },
        "id": "pcUIpsG2xlBB",
        "outputId": "6f3783b3-a057-4c8e-b5d2-ec38e9b173f6"
      },
      "execution_count": null,
      "outputs": [
        {
          "output_type": "execute_result",
          "data": {
            "text/plain": [
              "<AxesSubplot:xlabel='Deputado', ylabel='Mi R$'>"
            ]
          },
          "metadata": {},
          "execution_count": 110
        },
        {
          "output_type": "display_data",
          "data": {
            "text/plain": [
              "<Figure size 864x576 with 1 Axes>"
            ],
            "image/png": "[encoded data removed]"
          },
          "metadata": {
            "needs_background": "light"
          }
        }
      ]
    }
  ]
}